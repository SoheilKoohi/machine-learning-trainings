{
  "nbformat": 4,
  "nbformat_minor": 0,
  "metadata": {
    "colab": {
      "name": "Untitled1.ipynb",
      "version": "0.3.2",
      "provenance": [],
      "include_colab_link": true
    },
    "kernelspec": {
      "name": "python3",
      "display_name": "Python 3"
    }
  },
  "cells": [
    {
      "cell_type": "markdown",
      "metadata": {
        "id": "view-in-github",
        "colab_type": "text"
      },
      "source": [
        "<a href=\"https://colab.research.google.com/github/SoheilKoohi/machine-learning-trainings/blob/master/house_price_prediction.ipynb\" target=\"_parent\"><img src=\"https://colab.research.google.com/assets/colab-badge.svg\" alt=\"Open In Colab\"/></a>"
      ]
    },
    {
      "cell_type": "code",
      "metadata": {
        "id": "HkqxD-82LiWX",
        "colab_type": "code",
        "colab": {}
      },
      "source": [
        "import numpy as np\n",
        "import matplotlib.pyplot as plt\n",
        "from keras import backend as K\n",
        "from keras.datasets import cifar10\n",
        "from keras.models import Model\n",
        "from keras.layers import Dense, Conv2D, Flatten, Input, Dropout, MaxPooling2D, BatchNormalization\n",
        "from keras.optimizers import Adam"
      ],
      "execution_count": 0,
      "outputs": []
    },
    {
      "cell_type": "code",
      "metadata": {
        "id": "PP6qg7-PMwJY",
        "colab_type": "code",
        "colab": {}
      },
      "source": [
        "(X_train,Y_train),(X_test,Y_test) = cifar10.load_data()"
      ],
      "execution_count": 0,
      "outputs": []
    },
    {
      "cell_type": "code",
      "metadata": {
        "id": "cbn24sDtM_9k",
        "colab_type": "code",
        "colab": {
          "base_uri": "https://localhost:8080/",
          "height": 286
        },
        "outputId": "193fe04f-9ad0-4216-a3f4-e238637374ec"
      },
      "source": [
        "X_train.shape\n",
        "plt.imshow(X_train[6])"
      ],
      "execution_count": 11,
      "outputs": [
        {
          "output_type": "execute_result",
          "data": {
            "text/plain": [
              "<matplotlib.image.AxesImage at 0x7fb376595eb8>"
            ]
          },
          "metadata": {
            "tags": []
          },
          "execution_count": 11
        },
        {
          "output_type": "display_data",
          "data": {
            "image/png": "[encoded data removed]",
            "text/plain": [
              "<Figure size 432x288 with 1 Axes>"
            ]
          },
          "metadata": {
            "tags": []
          }
        }
      ]
    },
    {
      "cell_type": "code",
      "metadata": {
        "id": "NBEEKUyqOJgC",
        "colab_type": "code",
        "colab": {}
      },
      "source": [
        "def street_cnn(filters=(8,16, 32, 64,128), regress=False):\n",
        "\t# initialize the input shape and channel dimension, assuming\n",
        "\t# TensorFlow/channels-last ordering\n",
        "  chanDim = -1\n",
        " \n",
        "  # define the model input\n",
        "  inputs = Input()\n",
        " \n",
        "\t# loop over the number of filters\n",
        "  for (i, f) in enumerate(filters):\n",
        "\t\t# if this is the first CONV layer then set the input\n",
        "\t\t# appropriately\n",
        "    if i == 0:\n",
        "      x = inputs\n",
        " \n",
        "\t\t# CONV => RELU => BN => POOL\n",
        "    x = Conv2D(f, (3, 3), padding=\"same\",name=\"street_conv\"+str(i+1))(x)\n",
        "    x = Activation(\"relu\")(x)\n",
        "    x = BatchNormalization(axis=chanDim)(x)\n",
        "    x = MaxPooling2D(pool_size=(2, 2),name=\"street_pool\" + str(i+1))(x)\n",
        "    \n",
        "  x = Flatten()(x)\n",
        "  x = Dense(16,name=\"street_fully1\")(x)\n",
        "  x = Activation(\"relu\")(x)\n",
        "  x = BatchNormalization(axis=chanDim)(x)\n",
        "  x = Dropout(0.5)(x)\n",
        " \n",
        "    # apply another FC layer, this one to match the number of nodes\n",
        "    # coming out of the MLP\n",
        "  x = Dense(4,name=\"street_fully2\")(x)\n",
        "  x = Activation(\"relu\")(x)\n",
        "\n",
        "\t# check to see if the regression node should be added\n",
        "  if regress:\n",
        "    x = Dense(1, activation=\"linear\")(x)\n",
        " \n",
        "\t# construct the CNN\n",
        "  model = Model(inputs, x)\n",
        " \n",
        "\t# return the CNN\n",
        "  return model\n",
        "    \n",
        "    \n",
        "    \n",
        "def aerial_cnn(filters=(8,16, 32, 64,128), regress=False):\n",
        "\t# initialize the input shape and channel dimension, assuming\n",
        "\t# TensorFlow/channels-last ordering\n",
        "\n",
        "  chanDim = -1\n",
        " \n",
        "  # define the model input\n",
        "  inputs = Input()\n",
        " \n",
        "\t# loop over the number of filters\n",
        "  for (i, f) in enumerate(filters):\n",
        "\t\t# if this is the first CONV layer then set the input\n",
        "\t\t# appropriately\n",
        "    if i == 0:\n",
        "      x = inputs\n",
        " \n",
        "\t\t# CONV => RELU => BN => POOL\n",
        "    x = Conv2D(f, (3, 3), padding=\"same\",name=\"aerial_conv\"+str(i+1))(x)\n",
        "    x = Activation(\"relu\")(x)\n",
        "    x = BatchNormalization(axis=chanDim)(x)\n",
        "    x = MaxPooling2D(pool_size=(2, 2),name=\"aerial_pool\" + str(i+1))(x)\n",
        "    \n",
        "    \n",
        "    \n",
        "  x = Flatten()(x)\n",
        "  x = Dense(16,name=\"aerial_fully1\")(x)\n",
        "  x = Activation(\"relu\")(x)\n",
        "  x = BatchNormalization(axis=chanDim)(x)\n",
        "  x = Dropout(0.5)(x)\n",
        " \n",
        "\t# apply another FC layer, this one to match the number of nodes\n",
        "\t# coming out of the MLP\n",
        "  x = Dense(4,name=\"aerial_fully2\")(x)\n",
        "  x = Activation(\"relu\")(x)\n",
        " \n",
        "\t# check to see if the regression node should be added\n",
        "  if regress:\n",
        "    x = Dense(1, activation=\"linear\")(x)\n",
        " \n",
        "\t# construct the CNN\n",
        "  model = Model(inputs, x)\n",
        " \n",
        "\t# return the CNN\n",
        "  return model\n",
        "\n",
        "def non_image_ann():\n",
        "  inputs = Input()\n",
        "  x = Dense(60,name = \"non_image_layer1\")(inputs)\n",
        "  x = Activation(\"relu\")(x)\n",
        "  \n",
        "  x = Dense(30,name = \"non_image_layer1\")(x)\n",
        "  x = Activation(\"relu\")(x)\n",
        "  model = Model(inputs,x)\n",
        "  return model"
      ],
      "execution_count": 0,
      "outputs": []
    },
    {
      "cell_type": "code",
      "metadata": {
        "id": "j5--NuAYgBKs",
        "colab_type": "code",
        "colab": {}
      },
      "source": [
        "def concat_model(First_model,Second_model,Third_model):\n",
        "  first_model = First_model()\n",
        "  second_model = Second_model()\n",
        "  third_model = Third_model()\n",
        "  combined_input = [first_model.output,second_model.output,third_model.output]\n",
        "  x = Dense(60,activation=\"relu\",name=\"mix_layer1\")(combined_input)\n",
        "  x = Dense(30,activation=\"relu\",name=\"mix_layer2\")(x)\n",
        "  x = Dense(1,activation=\"linear\",name=\"mix_layer3\")(x)\n",
        "  model = Model(inputs=[first_model.input,second_model.input,third_model.input],outputs=x)\n",
        "  return model"
      ],
      "execution_count": 0,
      "outputs": []
    },
    {
      "cell_type": "code",
      "metadata": {
        "id": "HYWKhLOKnv_5",
        "colab_type": "code",
        "colab": {}
      },
      "source": [
        "model = concat_model(street_cnn,aerial_cnn,non_image_ann)\n",
        "opt = Adam(lr = 1e-3)\n",
        "model.compile(loss= \"mean_square_error\",opt)\n",
        "model.fit([street_train,aerial_train,non_image_train],Y_train,\n",
        "          validation_data= ([street_test,aerial_test,non_image_test],Y_test),epochs=200,batch_size=8)"
      ],
      "execution_count": 0,
      "outputs": []
    }
  ]
}